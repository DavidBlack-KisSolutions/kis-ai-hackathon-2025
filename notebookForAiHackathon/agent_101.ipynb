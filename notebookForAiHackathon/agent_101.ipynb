{
 "cells": [
  {
   "cell_type": "markdown",
   "id": "5c39ca97d8dfd067",
   "metadata": {
    "id": "5c39ca97d8dfd067"
   },
   "source": [
    "# Quintessential Agent/Tool\n",
    "\n",
    "The following code demonstrates how to use Langchain to create and Agent with a Tool and interact with it."
   ]
  },
  {
   "cell_type": "code",
   "source": [
    "!pip install langchain_google_vertexai langgraph"
   ],
   "metadata": {
    "colab": {
     "base_uri": "https://localhost:8080/"
    },
    "id": "BESQyZ72eAlO",
    "outputId": "48d4a8ae-dc12-4933-d284-5137d51c9d44",
    "ExecuteTime": {
     "end_time": "2025-03-20T14:36:14.140624Z",
     "start_time": "2025-03-20T14:36:13.666811Z"
    }
   },
   "id": "BESQyZ72eAlO",
   "outputs": [
    {
     "name": "stdout",
     "output_type": "stream",
     "text": [
      "Requirement already satisfied: langchain_google_vertexai in /Library/Frameworks/Python.framework/Versions/3.13/lib/python3.13/site-packages (2.0.15)\r\n",
      "Requirement already satisfied: langgraph in /Library/Frameworks/Python.framework/Versions/3.13/lib/python3.13/site-packages (0.3.14)\r\n",
      "Requirement already satisfied: google-cloud-aiplatform<2.0.0,>=1.81.0 in /Library/Frameworks/Python.framework/Versions/3.13/lib/python3.13/site-packages (from langchain_google_vertexai) (1.84.0)\r\n",
      "Requirement already satisfied: google-cloud-storage<3.0.0,>=2.18.0 in /Library/Frameworks/Python.framework/Versions/3.13/lib/python3.13/site-packages (from langchain_google_vertexai) (2.19.0)\r\n",
      "Requirement already satisfied: httpx<0.29.0,>=0.28.0 in /Library/Frameworks/Python.framework/Versions/3.13/lib/python3.13/site-packages (from langchain_google_vertexai) (0.28.1)\r\n",
      "Requirement already satisfied: httpx-sse<0.5.0,>=0.4.0 in /Library/Frameworks/Python.framework/Versions/3.13/lib/python3.13/site-packages (from langchain_google_vertexai) (0.4.0)\r\n",
      "Requirement already satisfied: langchain-core<0.4,>=0.3.31 in /Library/Frameworks/Python.framework/Versions/3.13/lib/python3.13/site-packages (from langchain_google_vertexai) (0.3.45)\r\n",
      "Requirement already satisfied: pydantic<3.0,>=2.9 in /Library/Frameworks/Python.framework/Versions/3.13/lib/python3.13/site-packages (from langchain_google_vertexai) (2.10.6)\r\n",
      "Requirement already satisfied: langgraph-checkpoint<3.0.0,>=2.0.10 in /Library/Frameworks/Python.framework/Versions/3.13/lib/python3.13/site-packages (from langgraph) (2.0.21)\r\n",
      "Requirement already satisfied: langgraph-prebuilt<0.2,>=0.1.1 in /Library/Frameworks/Python.framework/Versions/3.13/lib/python3.13/site-packages (from langgraph) (0.1.3)\r\n",
      "Requirement already satisfied: langgraph-sdk<0.2.0,>=0.1.42 in /Library/Frameworks/Python.framework/Versions/3.13/lib/python3.13/site-packages (from langgraph) (0.1.57)\r\n",
      "Requirement already satisfied: google-api-core!=2.0.*,!=2.1.*,!=2.2.*,!=2.3.*,!=2.4.*,!=2.5.*,!=2.6.*,!=2.7.*,<3.0.0dev,>=1.34.1 in /Library/Frameworks/Python.framework/Versions/3.13/lib/python3.13/site-packages (from google-api-core[grpc]!=2.0.*,!=2.1.*,!=2.2.*,!=2.3.*,!=2.4.*,!=2.5.*,!=2.6.*,!=2.7.*,<3.0.0dev,>=1.34.1->google-cloud-aiplatform<2.0.0,>=1.81.0->langchain_google_vertexai) (2.24.2)\r\n",
      "Requirement already satisfied: google-auth<3.0.0dev,>=2.14.1 in /Library/Frameworks/Python.framework/Versions/3.13/lib/python3.13/site-packages (from google-cloud-aiplatform<2.0.0,>=1.81.0->langchain_google_vertexai) (2.38.0)\r\n",
      "Requirement already satisfied: proto-plus<2.0.0dev,>=1.22.3 in /Library/Frameworks/Python.framework/Versions/3.13/lib/python3.13/site-packages (from google-cloud-aiplatform<2.0.0,>=1.81.0->langchain_google_vertexai) (1.26.1)\r\n",
      "Requirement already satisfied: protobuf!=4.21.0,!=4.21.1,!=4.21.2,!=4.21.3,!=4.21.4,!=4.21.5,<6.0.0dev,>=3.20.2 in /Library/Frameworks/Python.framework/Versions/3.13/lib/python3.13/site-packages (from google-cloud-aiplatform<2.0.0,>=1.81.0->langchain_google_vertexai) (5.29.3)\r\n",
      "Requirement already satisfied: packaging>=14.3 in /Library/Frameworks/Python.framework/Versions/3.13/lib/python3.13/site-packages (from google-cloud-aiplatform<2.0.0,>=1.81.0->langchain_google_vertexai) (24.2)\r\n",
      "Requirement already satisfied: google-cloud-bigquery!=3.20.0,<4.0.0dev,>=1.15.0 in /Library/Frameworks/Python.framework/Versions/3.13/lib/python3.13/site-packages (from google-cloud-aiplatform<2.0.0,>=1.81.0->langchain_google_vertexai) (3.30.0)\r\n",
      "Requirement already satisfied: google-cloud-resource-manager<3.0.0dev,>=1.3.3 in /Library/Frameworks/Python.framework/Versions/3.13/lib/python3.13/site-packages (from google-cloud-aiplatform<2.0.0,>=1.81.0->langchain_google_vertexai) (1.14.2)\r\n",
      "Requirement already satisfied: shapely<3.0.0dev in /Library/Frameworks/Python.framework/Versions/3.13/lib/python3.13/site-packages (from google-cloud-aiplatform<2.0.0,>=1.81.0->langchain_google_vertexai) (2.0.7)\r\n",
      "Requirement already satisfied: typing-extensions in /Library/Frameworks/Python.framework/Versions/3.13/lib/python3.13/site-packages (from google-cloud-aiplatform<2.0.0,>=1.81.0->langchain_google_vertexai) (4.12.2)\r\n",
      "Requirement already satisfied: docstring-parser<1 in /Library/Frameworks/Python.framework/Versions/3.13/lib/python3.13/site-packages (from google-cloud-aiplatform<2.0.0,>=1.81.0->langchain_google_vertexai) (0.16)\r\n",
      "Requirement already satisfied: google-cloud-core<3.0dev,>=2.3.0 in /Library/Frameworks/Python.framework/Versions/3.13/lib/python3.13/site-packages (from google-cloud-storage<3.0.0,>=2.18.0->langchain_google_vertexai) (2.4.3)\r\n",
      "Requirement already satisfied: google-resumable-media>=2.7.2 in /Library/Frameworks/Python.framework/Versions/3.13/lib/python3.13/site-packages (from google-cloud-storage<3.0.0,>=2.18.0->langchain_google_vertexai) (2.7.2)\r\n",
      "Requirement already satisfied: requests<3.0.0dev,>=2.18.0 in /Library/Frameworks/Python.framework/Versions/3.13/lib/python3.13/site-packages (from google-cloud-storage<3.0.0,>=2.18.0->langchain_google_vertexai) (2.32.3)\r\n",
      "Requirement already satisfied: google-crc32c<2.0dev,>=1.0 in /Library/Frameworks/Python.framework/Versions/3.13/lib/python3.13/site-packages (from google-cloud-storage<3.0.0,>=2.18.0->langchain_google_vertexai) (1.7.0)\r\n",
      "Requirement already satisfied: anyio in /Library/Frameworks/Python.framework/Versions/3.13/lib/python3.13/site-packages (from httpx<0.29.0,>=0.28.0->langchain_google_vertexai) (4.9.0)\r\n",
      "Requirement already satisfied: certifi in /Library/Frameworks/Python.framework/Versions/3.13/lib/python3.13/site-packages (from httpx<0.29.0,>=0.28.0->langchain_google_vertexai) (2025.1.31)\r\n",
      "Requirement already satisfied: httpcore==1.* in /Library/Frameworks/Python.framework/Versions/3.13/lib/python3.13/site-packages (from httpx<0.29.0,>=0.28.0->langchain_google_vertexai) (1.0.7)\r\n",
      "Requirement already satisfied: idna in /Library/Frameworks/Python.framework/Versions/3.13/lib/python3.13/site-packages (from httpx<0.29.0,>=0.28.0->langchain_google_vertexai) (3.10)\r\n",
      "Requirement already satisfied: h11<0.15,>=0.13 in /Library/Frameworks/Python.framework/Versions/3.13/lib/python3.13/site-packages (from httpcore==1.*->httpx<0.29.0,>=0.28.0->langchain_google_vertexai) (0.14.0)\r\n",
      "Requirement already satisfied: langsmith<0.4,>=0.1.125 in /Library/Frameworks/Python.framework/Versions/3.13/lib/python3.13/site-packages (from langchain-core<0.4,>=0.3.31->langchain_google_vertexai) (0.3.15)\r\n",
      "Requirement already satisfied: tenacity!=8.4.0,<10.0.0,>=8.1.0 in /Library/Frameworks/Python.framework/Versions/3.13/lib/python3.13/site-packages (from langchain-core<0.4,>=0.3.31->langchain_google_vertexai) (9.0.0)\r\n",
      "Requirement already satisfied: jsonpatch<2.0,>=1.33 in /Library/Frameworks/Python.framework/Versions/3.13/lib/python3.13/site-packages (from langchain-core<0.4,>=0.3.31->langchain_google_vertexai) (1.33)\r\n",
      "Requirement already satisfied: PyYAML>=5.3 in /Library/Frameworks/Python.framework/Versions/3.13/lib/python3.13/site-packages (from langchain-core<0.4,>=0.3.31->langchain_google_vertexai) (6.0.2)\r\n",
      "Requirement already satisfied: msgpack<2.0.0,>=1.1.0 in /Library/Frameworks/Python.framework/Versions/3.13/lib/python3.13/site-packages (from langgraph-checkpoint<3.0.0,>=2.0.10->langgraph) (1.1.0)\r\n",
      "Requirement already satisfied: orjson>=3.10.1 in /Library/Frameworks/Python.framework/Versions/3.13/lib/python3.13/site-packages (from langgraph-sdk<0.2.0,>=0.1.42->langgraph) (3.10.15)\r\n",
      "Requirement already satisfied: annotated-types>=0.6.0 in /Library/Frameworks/Python.framework/Versions/3.13/lib/python3.13/site-packages (from pydantic<3.0,>=2.9->langchain_google_vertexai) (0.7.0)\r\n",
      "Requirement already satisfied: pydantic-core==2.27.2 in /Library/Frameworks/Python.framework/Versions/3.13/lib/python3.13/site-packages (from pydantic<3.0,>=2.9->langchain_google_vertexai) (2.27.2)\r\n",
      "Requirement already satisfied: googleapis-common-protos<2.0.0,>=1.56.2 in /Library/Frameworks/Python.framework/Versions/3.13/lib/python3.13/site-packages (from google-api-core!=2.0.*,!=2.1.*,!=2.2.*,!=2.3.*,!=2.4.*,!=2.5.*,!=2.6.*,!=2.7.*,<3.0.0dev,>=1.34.1->google-api-core[grpc]!=2.0.*,!=2.1.*,!=2.2.*,!=2.3.*,!=2.4.*,!=2.5.*,!=2.6.*,!=2.7.*,<3.0.0dev,>=1.34.1->google-cloud-aiplatform<2.0.0,>=1.81.0->langchain_google_vertexai) (1.69.2)\r\n",
      "Requirement already satisfied: grpcio<2.0dev,>=1.33.2 in /Library/Frameworks/Python.framework/Versions/3.13/lib/python3.13/site-packages (from google-api-core[grpc]!=2.0.*,!=2.1.*,!=2.2.*,!=2.3.*,!=2.4.*,!=2.5.*,!=2.6.*,!=2.7.*,<3.0.0dev,>=1.34.1->google-cloud-aiplatform<2.0.0,>=1.81.0->langchain_google_vertexai) (1.71.0)\r\n",
      "Requirement already satisfied: grpcio-status<2.0.dev0,>=1.33.2 in /Library/Frameworks/Python.framework/Versions/3.13/lib/python3.13/site-packages (from google-api-core[grpc]!=2.0.*,!=2.1.*,!=2.2.*,!=2.3.*,!=2.4.*,!=2.5.*,!=2.6.*,!=2.7.*,<3.0.0dev,>=1.34.1->google-cloud-aiplatform<2.0.0,>=1.81.0->langchain_google_vertexai) (1.71.0)\r\n",
      "Requirement already satisfied: cachetools<6.0,>=2.0.0 in /Library/Frameworks/Python.framework/Versions/3.13/lib/python3.13/site-packages (from google-auth<3.0.0dev,>=2.14.1->google-cloud-aiplatform<2.0.0,>=1.81.0->langchain_google_vertexai) (5.5.2)\r\n",
      "Requirement already satisfied: pyasn1-modules>=0.2.1 in /Library/Frameworks/Python.framework/Versions/3.13/lib/python3.13/site-packages (from google-auth<3.0.0dev,>=2.14.1->google-cloud-aiplatform<2.0.0,>=1.81.0->langchain_google_vertexai) (0.4.1)\r\n",
      "Requirement already satisfied: rsa<5,>=3.1.4 in /Library/Frameworks/Python.framework/Versions/3.13/lib/python3.13/site-packages (from google-auth<3.0.0dev,>=2.14.1->google-cloud-aiplatform<2.0.0,>=1.81.0->langchain_google_vertexai) (4.9)\r\n",
      "Requirement already satisfied: python-dateutil<3.0dev,>=2.7.3 in /Library/Frameworks/Python.framework/Versions/3.13/lib/python3.13/site-packages (from google-cloud-bigquery!=3.20.0,<4.0.0dev,>=1.15.0->google-cloud-aiplatform<2.0.0,>=1.81.0->langchain_google_vertexai) (2.9.0.post0)\r\n",
      "Requirement already satisfied: grpc-google-iam-v1<1.0.0,>=0.14.0 in /Library/Frameworks/Python.framework/Versions/3.13/lib/python3.13/site-packages (from google-cloud-resource-manager<3.0.0dev,>=1.3.3->google-cloud-aiplatform<2.0.0,>=1.81.0->langchain_google_vertexai) (0.14.2)\r\n",
      "Requirement already satisfied: jsonpointer>=1.9 in /Library/Frameworks/Python.framework/Versions/3.13/lib/python3.13/site-packages (from jsonpatch<2.0,>=1.33->langchain-core<0.4,>=0.3.31->langchain_google_vertexai) (3.0.0)\r\n",
      "Requirement already satisfied: requests-toolbelt<2.0.0,>=1.0.0 in /Library/Frameworks/Python.framework/Versions/3.13/lib/python3.13/site-packages (from langsmith<0.4,>=0.1.125->langchain-core<0.4,>=0.3.31->langchain_google_vertexai) (1.0.0)\r\n",
      "Requirement already satisfied: zstandard<0.24.0,>=0.23.0 in /Library/Frameworks/Python.framework/Versions/3.13/lib/python3.13/site-packages (from langsmith<0.4,>=0.1.125->langchain-core<0.4,>=0.3.31->langchain_google_vertexai) (0.23.0)\r\n",
      "Requirement already satisfied: charset-normalizer<4,>=2 in /Library/Frameworks/Python.framework/Versions/3.13/lib/python3.13/site-packages (from requests<3.0.0dev,>=2.18.0->google-cloud-storage<3.0.0,>=2.18.0->langchain_google_vertexai) (3.4.1)\r\n",
      "Requirement already satisfied: urllib3<3,>=1.21.1 in /Library/Frameworks/Python.framework/Versions/3.13/lib/python3.13/site-packages (from requests<3.0.0dev,>=2.18.0->google-cloud-storage<3.0.0,>=2.18.0->langchain_google_vertexai) (2.3.0)\r\n",
      "Requirement already satisfied: numpy<3,>=1.14 in /Library/Frameworks/Python.framework/Versions/3.13/lib/python3.13/site-packages (from shapely<3.0.0dev->google-cloud-aiplatform<2.0.0,>=1.81.0->langchain_google_vertexai) (2.2.4)\r\n",
      "Requirement already satisfied: sniffio>=1.1 in /Library/Frameworks/Python.framework/Versions/3.13/lib/python3.13/site-packages (from anyio->httpx<0.29.0,>=0.28.0->langchain_google_vertexai) (1.3.1)\r\n",
      "Requirement already satisfied: pyasn1<0.7.0,>=0.4.6 in /Library/Frameworks/Python.framework/Versions/3.13/lib/python3.13/site-packages (from pyasn1-modules>=0.2.1->google-auth<3.0.0dev,>=2.14.1->google-cloud-aiplatform<2.0.0,>=1.81.0->langchain_google_vertexai) (0.6.1)\r\n",
      "Requirement already satisfied: six>=1.5 in /Library/Frameworks/Python.framework/Versions/3.13/lib/python3.13/site-packages (from python-dateutil<3.0dev,>=2.7.3->google-cloud-bigquery!=3.20.0,<4.0.0dev,>=1.15.0->google-cloud-aiplatform<2.0.0,>=1.81.0->langchain_google_vertexai) (1.17.0)\r\n"
     ]
    }
   ],
   "execution_count": 8
  },
  {
   "cell_type": "code",
   "id": "a8647b42dc349513",
   "metadata": {
    "id": "a8647b42dc349513",
    "ExecuteTime": {
     "end_time": "2025-03-20T14:36:14.147368Z",
     "start_time": "2025-03-20T14:36:14.144683Z"
    }
   },
   "source": [
    "import os\n",
    "\n",
    "from langchain_core.messages import HumanMessage\n",
    "from langchain_core.prompts import ChatPromptTemplate\n",
    "from langchain_core.tools import StructuredTool\n",
    "from langchain_google_vertexai import ChatVertexAI\n",
    "from langgraph.checkpoint.memory import MemorySaver\n",
    "from langgraph.prebuilt import create_react_agent\n",
    "from pydantic import BaseModel, Field\n",
    "\n",
    "# authentication\n",
    "os.environ['GOOGLE_APPLICATION_CREDENTIALS'] = './credentials.json'\n"
   ],
   "outputs": [],
   "execution_count": 9
  },
  {
   "cell_type": "markdown",
   "id": "2c79c8a5-b6b0-45e0-9bb9-844116def215",
   "metadata": {
    "id": "2c79c8a5-b6b0-45e0-9bb9-844116def215"
   },
   "source": [
    "Create a simple calculator tool that can multiply two numners."
   ]
  },
  {
   "cell_type": "code",
   "id": "55636cd0e76ce725",
   "metadata": {
    "id": "55636cd0e76ce725",
    "ExecuteTime": {
     "end_time": "2025-03-20T14:36:14.155992Z",
     "start_time": "2025-03-20T14:36:14.153089Z"
    }
   },
   "source": [
    "def multiply(a: int, b: int) -> int:\n",
    "    \"\"\"Multiply two numbers.\"\"\"\n",
    "    return a * b\n",
    "\n",
    "# Pydantic input model which the Agent will use to slot fill...\n",
    "class CalculatorInput(BaseModel):\n",
    "    a: int = Field(description=\"first number\")\n",
    "    b: int = Field(description=\"second number\")\n",
    "\n",
    "# build tool from function\n",
    "calculator = StructuredTool.from_function(\n",
    "    func=multiply,\n",
    "    # coroutine=\n",
    "    name=\"Calculator\",\n",
    "    description=\"multiply numbers\",\n",
    "    args_schema=CalculatorInput,\n",
    "    return_direct=False,\n",
    ")"
   ],
   "outputs": [],
   "execution_count": 10
  },
  {
   "cell_type": "markdown",
   "id": "f46d1553-a37b-4f07-b99c-e8a7f5edef77",
   "metadata": {
    "id": "f46d1553-a37b-4f07-b99c-e8a7f5edef77"
   },
   "source": [
    "Now assemble the agent (llm + tools + prompt + memory)"
   ]
  },
  {
   "cell_type": "code",
   "id": "5a22f7a2-0142-480b-9e7a-fdf244031e2b",
   "metadata": {
    "id": "5a22f7a2-0142-480b-9e7a-fdf244031e2b",
    "ExecuteTime": {
     "end_time": "2025-03-20T14:36:14.167932Z",
     "start_time": "2025-03-20T14:36:14.161044Z"
    }
   },
   "source": [
    "# instantiate the chat model\n",
    "model = ChatVertexAI(model='gemini-1.5-pro-002')  # gemini-1.5-flash\n",
    "\n",
    "# bind the tools\n",
    "tools = []\n",
    "tools.append(calculator)\n",
    "model_with_tools = model.bind_tools(tools)\n",
    "\n",
    "prompt = ChatPromptTemplate.from_messages([\n",
    "    (\"system\", \"You are a helpful assistent named Amy.\"),\n",
    "    (\"placeholder\", \"{messages}\"),\n",
    "    # (\"user\", \"Remember, always be polite!\"),\n",
    "])\n",
    "\n",
    "# create memory\n",
    "memory = MemorySaver()\n",
    "\n",
    "# create agent executor\n",
    "agent_executor = create_react_agent(model_with_tools, tools, prompt=prompt, checkpointer=memory)"
   ],
   "outputs": [],
   "execution_count": 11
  },
  {
   "cell_type": "markdown",
   "id": "38118ce3-f9d0-4891-9dfa-242158941bce",
   "metadata": {
    "id": "38118ce3-f9d0-4891-9dfa-242158941bce"
   },
   "source": [
    "Simple function to perform invoke on the agent executor with the users utternace and return the agents response."
   ]
  },
  {
   "cell_type": "code",
   "id": "bce43679bfe1bca0",
   "metadata": {
    "id": "bce43679bfe1bca0",
    "ExecuteTime": {
     "end_time": "2025-03-20T14:36:14.174463Z",
     "start_time": "2025-03-20T14:36:14.172584Z"
    }
   },
   "source": [
    "def invoke(utterance: str) -> str:\n",
    "    thread_id = \"abc123\"\n",
    "    response = agent_executor.invoke(\n",
    "        {\n",
    "            \"messages\": [HumanMessage(content=utterance)]\n",
    "        },\n",
    "        config={\n",
    "            \"configurable\": {\"thread_id\": thread_id}\n",
    "        }\n",
    "    )\n",
    "    messages = response[\"messages\"]\n",
    "    ai_message = messages[-1].content\n",
    "    return ai_message"
   ],
   "outputs": [],
   "execution_count": 12
  },
  {
   "cell_type": "markdown",
   "id": "c81e1394-9095-47e9-b256-bc818318c441",
   "metadata": {
    "id": "c81e1394-9095-47e9-b256-bc818318c441"
   },
   "source": [
    "Chat RPEL"
   ]
  },
  {
   "cell_type": "code",
   "id": "33da49997e7a8cf",
   "metadata": {
    "id": "33da49997e7a8cf",
    "ExecuteTime": {
     "end_time": "2025-03-20T14:36:14.180846Z",
     "start_time": "2025-03-20T14:36:14.178994Z"
    }
   },
   "source": [
    "def chat():\n",
    "    while True:\n",
    "        utterance = input(\">\").strip()\n",
    "        if \"q\" == utterance.casefold():\n",
    "            break\n",
    "        print(invoke(utterance))\n",
    "    print(\"Goodbye\")"
   ],
   "outputs": [],
   "execution_count": 13
  },
  {
   "cell_type": "code",
   "id": "c87eb082078070c",
   "metadata": {
    "colab": {
     "base_uri": "https://localhost:8080/"
    },
    "id": "c87eb082078070c",
    "outputId": "26bfb8a8-26d7-4c26-b223-9b1b0f049f4c",
    "ExecuteTime": {
     "end_time": "2025-03-20T14:36:23.137767Z",
     "start_time": "2025-03-20T14:36:14.189550Z"
    }
   },
   "source": [
    "chat()"
   ],
   "outputs": [
    {
     "name": "stdout",
     "output_type": "stream",
     "text": [
      "Thirty-six.\n",
      "\n"
     ]
    },
    {
     "ename": "KeyboardInterrupt",
     "evalue": "Interrupted by user",
     "output_type": "error",
     "traceback": [
      "\u001B[31m---------------------------------------------------------------------------\u001B[39m",
      "\u001B[31mKeyboardInterrupt\u001B[39m                         Traceback (most recent call last)",
      "\u001B[36mCell\u001B[39m\u001B[36m \u001B[39m\u001B[32mIn[14]\u001B[39m\u001B[32m, line 1\u001B[39m\n\u001B[32m----> \u001B[39m\u001B[32m1\u001B[39m \u001B[43mchat\u001B[49m\u001B[43m(\u001B[49m\u001B[43m)\u001B[49m\n",
      "\u001B[36mCell\u001B[39m\u001B[36m \u001B[39m\u001B[32mIn[13]\u001B[39m\u001B[32m, line 3\u001B[39m, in \u001B[36mchat\u001B[39m\u001B[34m()\u001B[39m\n\u001B[32m      1\u001B[39m \u001B[38;5;28;01mdef\u001B[39;00m\u001B[38;5;250m \u001B[39m\u001B[34mchat\u001B[39m():\n\u001B[32m      2\u001B[39m     \u001B[38;5;28;01mwhile\u001B[39;00m \u001B[38;5;28;01mTrue\u001B[39;00m:\n\u001B[32m----> \u001B[39m\u001B[32m3\u001B[39m         utterance = \u001B[38;5;28;43minput\u001B[39;49m\u001B[43m(\u001B[49m\u001B[33;43m\"\u001B[39;49m\u001B[33;43m>\u001B[39;49m\u001B[33;43m\"\u001B[39;49m\u001B[43m)\u001B[49m.strip()\n\u001B[32m      4\u001B[39m         \u001B[38;5;28;01mif\u001B[39;00m \u001B[33m\"\u001B[39m\u001B[33mq\u001B[39m\u001B[33m\"\u001B[39m == utterance.casefold():\n\u001B[32m      5\u001B[39m             \u001B[38;5;28;01mbreak\u001B[39;00m\n",
      "\u001B[36mFile \u001B[39m\u001B[32m/Library/Frameworks/Python.framework/Versions/3.13/lib/python3.13/site-packages/ipykernel/kernelbase.py:1282\u001B[39m, in \u001B[36mKernel.raw_input\u001B[39m\u001B[34m(self, prompt)\u001B[39m\n\u001B[32m   1280\u001B[39m     msg = \u001B[33m\"\u001B[39m\u001B[33mraw_input was called, but this frontend does not support input requests.\u001B[39m\u001B[33m\"\u001B[39m\n\u001B[32m   1281\u001B[39m     \u001B[38;5;28;01mraise\u001B[39;00m StdinNotImplementedError(msg)\n\u001B[32m-> \u001B[39m\u001B[32m1282\u001B[39m \u001B[38;5;28;01mreturn\u001B[39;00m \u001B[38;5;28;43mself\u001B[39;49m\u001B[43m.\u001B[49m\u001B[43m_input_request\u001B[49m\u001B[43m(\u001B[49m\n\u001B[32m   1283\u001B[39m \u001B[43m    \u001B[49m\u001B[38;5;28;43mstr\u001B[39;49m\u001B[43m(\u001B[49m\u001B[43mprompt\u001B[49m\u001B[43m)\u001B[49m\u001B[43m,\u001B[49m\n\u001B[32m   1284\u001B[39m \u001B[43m    \u001B[49m\u001B[38;5;28;43mself\u001B[39;49m\u001B[43m.\u001B[49m\u001B[43m_parent_ident\u001B[49m\u001B[43m[\u001B[49m\u001B[33;43m\"\u001B[39;49m\u001B[33;43mshell\u001B[39;49m\u001B[33;43m\"\u001B[39;49m\u001B[43m]\u001B[49m\u001B[43m,\u001B[49m\n\u001B[32m   1285\u001B[39m \u001B[43m    \u001B[49m\u001B[38;5;28;43mself\u001B[39;49m\u001B[43m.\u001B[49m\u001B[43mget_parent\u001B[49m\u001B[43m(\u001B[49m\u001B[33;43m\"\u001B[39;49m\u001B[33;43mshell\u001B[39;49m\u001B[33;43m\"\u001B[39;49m\u001B[43m)\u001B[49m\u001B[43m,\u001B[49m\n\u001B[32m   1286\u001B[39m \u001B[43m    \u001B[49m\u001B[43mpassword\u001B[49m\u001B[43m=\u001B[49m\u001B[38;5;28;43;01mFalse\u001B[39;49;00m\u001B[43m,\u001B[49m\n\u001B[32m   1287\u001B[39m \u001B[43m\u001B[49m\u001B[43m)\u001B[49m\n",
      "\u001B[36mFile \u001B[39m\u001B[32m/Library/Frameworks/Python.framework/Versions/3.13/lib/python3.13/site-packages/ipykernel/kernelbase.py:1325\u001B[39m, in \u001B[36mKernel._input_request\u001B[39m\u001B[34m(self, prompt, ident, parent, password)\u001B[39m\n\u001B[32m   1322\u001B[39m \u001B[38;5;28;01mexcept\u001B[39;00m \u001B[38;5;167;01mKeyboardInterrupt\u001B[39;00m:\n\u001B[32m   1323\u001B[39m     \u001B[38;5;66;03m# re-raise KeyboardInterrupt, to truncate traceback\u001B[39;00m\n\u001B[32m   1324\u001B[39m     msg = \u001B[33m\"\u001B[39m\u001B[33mInterrupted by user\u001B[39m\u001B[33m\"\u001B[39m\n\u001B[32m-> \u001B[39m\u001B[32m1325\u001B[39m     \u001B[38;5;28;01mraise\u001B[39;00m \u001B[38;5;167;01mKeyboardInterrupt\u001B[39;00m(msg) \u001B[38;5;28;01mfrom\u001B[39;00m\u001B[38;5;250m \u001B[39m\u001B[38;5;28;01mNone\u001B[39;00m\n\u001B[32m   1326\u001B[39m \u001B[38;5;28;01mexcept\u001B[39;00m \u001B[38;5;167;01mException\u001B[39;00m:\n\u001B[32m   1327\u001B[39m     \u001B[38;5;28mself\u001B[39m.log.warning(\u001B[33m\"\u001B[39m\u001B[33mInvalid Message:\u001B[39m\u001B[33m\"\u001B[39m, exc_info=\u001B[38;5;28;01mTrue\u001B[39;00m)\n",
      "\u001B[31mKeyboardInterrupt\u001B[39m: Interrupted by user"
     ]
    }
   ],
   "execution_count": 14
  }
 ],
 "metadata": {
  "kernelspec": {
   "display_name": "Python 3 (ipykernel)",
   "language": "python",
   "name": "python3"
  },
  "language_info": {
   "codemirror_mode": {
    "name": "ipython",
    "version": 3
   },
   "file_extension": ".py",
   "mimetype": "text/x-python",
   "name": "python",
   "nbconvert_exporter": "python",
   "pygments_lexer": "ipython3",
   "version": "3.13.0"
  },
  "colab": {
   "provenance": []
  }
 },
 "nbformat": 4,
 "nbformat_minor": 5
}
