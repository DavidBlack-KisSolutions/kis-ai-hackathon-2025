{
 "cells": [
  {
   "cell_type": "code",
   "id": "initial_id",
   "metadata": {
    "collapsed": true,
    "ExecuteTime": {
     "end_time": "2025-03-20T15:30:01.462498Z",
     "start_time": "2025-03-20T15:30:01.454766Z"
    }
   },
   "source": [
    "import json\n",
    "import os\n",
    "from typing import Dict\n",
    "\n",
    "from langchain_core.messages import HumanMessage\n",
    "from langchain_core.prompts import ChatPromptTemplate\n",
    "from langchain_core.tools import tool\n",
    "from langchain_google_vertexai import ChatVertexAI\n",
    "from langgraph.checkpoint.memory import MemorySaver\n",
    "from langgraph.prebuilt import create_react_agent\n",
    "\n",
    "# Import the Gemini wrapper\n",
    "# from gemini_wrapper import default_gemini\n",
    "\n",
    "os.environ[\"GOOGLE_APPLICATION_CREDENTIALS\"] = \"../notebookForAiHackathon/credentials.json\"\n",
    "\n",
    "model = ChatVertexAI(model=\"gemini-1.5-pro-002\")  # gemini-1.5-flash\n",
    "\n",
    "# Database file path\n",
    "DATABASE_FILE = \"./database.json\"\n",
    "\n",
    "\n",
    "# Initialize database from JSON file if it exists, otherwise create empty dict\n",
    "def load_database() -> Dict[str, str]:\n",
    "    if os.path.exists(DATABASE_FILE):\n",
    "        try:\n",
    "            with open(DATABASE_FILE, \"r\") as f:\n",
    "                return json.load(f)\n",
    "        except json.JSONDecodeError:\n",
    "            return {}\n",
    "    return {}\n",
    "\n",
    "\n",
    "def save_database():\n",
    "    with open(DATABASE_FILE, \"w\") as f:\n",
    "        json.dump(database, f, indent=2)\n",
    "\n",
    "\n",
    "# Initialize the database\n",
    "database: Dict[str, str] = load_database()"
   ],
   "outputs": [],
   "execution_count": 41
  },
  {
   "metadata": {},
   "cell_type": "markdown",
   "source": "Setting up the agent's tools",
   "id": "d308beb976c32358"
  },
  {
   "metadata": {
    "ExecuteTime": {
     "end_time": "2025-03-20T15:30:01.478933Z",
     "start_time": "2025-03-20T15:30:01.466451Z"
    }
   },
   "cell_type": "code",
   "source": [
    "@tool(description=\"Add a value to the database using a key\")\n",
    "def add_to_database(key: str, value: str):\n",
    "    print(f\"Adding {key} to database\")\n",
    "    database[key] = value\n",
    "    save_database()\n",
    "\n",
    "@tool(description=\"Update an existing value in the database using a key\")\n",
    "def update_database(key: str, value: str):\n",
    "    print(f\"Updating {key}: {value}\")\n",
    "    # TODO: Need guardrails when updating, checking if key exists, etc\n",
    "    database[key] = value\n",
    "    save_database()\n",
    "\n",
    "@tool(description=\"retrieve a value from the database using a key\")\n",
    "def get_from_database(key: str) -> str:\n",
    "    print(f\"Getting {key} from database\")\n",
    "    return database.get(key, \"Key not found\")\n",
    "\n",
    "@tool(description=\"Get all the keys from the database\")\n",
    "def get_all_keys_from_database() -> list[str]:\n",
    "    print(\"Getting all keys from the database\")\n",
    "    return list(database.keys())\n",
    "\n",
    "@tool(description=\"Delete a value from the database using a key\")\n",
    "def delete_from_database(key: str):\n",
    "    print(f\"Deleting {key} from database\")\n",
    "    if key in database:\n",
    "        del database[key]\n",
    "        save_database()\n",
    "\n",
    "@tool(description=\"Clear all the keys and values from the database\")\n",
    "def clear_database():\n",
    "    print(\"Clearing all keys and values from the database\")\n",
    "    database.clear()\n",
    "    save_database()"
   ],
   "id": "231fc1f45e46498d",
   "outputs": [],
   "execution_count": 42
  },
  {
   "metadata": {
    "ExecuteTime": {
     "end_time": "2025-03-20T15:30:01.488162Z",
     "start_time": "2025-03-20T15:30:01.484736Z"
    }
   },
   "cell_type": "code",
   "source": [
    "def create_database_agent():\n",
    "\n",
    "    # Create the list of tools\n",
    "    tools = [\n",
    "        add_to_database,\n",
    "        get_from_database,\n",
    "        get_all_keys_from_database,\n",
    "        delete_from_database,\n",
    "        update_database\n",
    "    ]\n",
    "\n",
    "    # Initialize the model using the Gemini wrapper\n",
    "    model_with_tools = model.bind_tools(tools)\n",
    "\n",
    "    # Create the prompt\n",
    "    prompt = ChatPromptTemplate.from_messages(\n",
    "        [\n",
    "            (\n",
    "                \"system\",\n",
    "                \"\"\"You are a helpful assistant named Amy with access to a database.\n",
    "        You can:\n",
    "        - Add key-value pairs to the database\n",
    "        - Retrieve values by key\n",
    "        - List all keys in the database\n",
    "        - Delete specific key-value pairs\n",
    "        - Clear the entire database\n",
    "\n",
    "        Always use the tools to interact with the database, don't rely on your internal memory.\n",
    "\n",
    "        Always infer the best key to use when creating new data, use camel case. First, list the keys to see if the key is available before inferring.\n",
    "\n",
    "        Always be polite and helpful when interacting with the database.\"\"\",\n",
    "            ),\n",
    "            (\"placeholder\", \"{messages}\"),\n",
    "        ]\n",
    "    )\n",
    "\n",
    "    # Create memory and agent\n",
    "    memory = MemorySaver()\n",
    "    agent_executor = create_react_agent(\n",
    "        model_with_tools, tools, prompt=prompt, checkpointer=memory\n",
    "    )\n",
    "\n",
    "    return agent_executor\n",
    "\n",
    "\n",
    "def invoke(utterance: str) -> str:\n",
    "    \"\"\"Invoke the database agent with a user utterance.\"\"\"\n",
    "    print(f\"> {utterance}\")\n",
    "    thread_id = \"db_agent_123\"\n",
    "    response = agent_executor.invoke(\n",
    "        {\"messages\": [HumanMessage(content=utterance)]},\n",
    "        config={\"configurable\": {\"thread_id\": thread_id}},\n",
    "    )\n",
    "    messages = response[\"messages\"]\n",
    "    ai_message = messages[-1].content\n",
    "    return ai_message\n",
    "\n",
    "\n",
    "def chat():\n",
    "    \"\"\"Interactive chat loop for the database agent.\"\"\"\n",
    "    while True:\n",
    "        utterance = input(\">\").strip()\n",
    "        if \"q\" == utterance.casefold():\n",
    "            break\n",
    "        print(invoke(utterance))\n",
    "    print(\"Goodbye\")\n"
   ],
   "id": "3ec7cd5b06ab95c1",
   "outputs": [],
   "execution_count": 43
  },
  {
   "metadata": {
    "ExecuteTime": {
     "end_time": "2025-03-20T15:30:50.742184Z",
     "start_time": "2025-03-20T15:30:01.492958Z"
    }
   },
   "cell_type": "code",
   "source": [
    "if __name__ == \"__main__\":\n",
    "    # Create the agent\n",
    "    agent_executor = create_database_agent()\n",
    "\n",
    "    # Start the chat loop\n",
    "    print(\n",
    "        \"Database Agent: Hello! I can help you manage the database. What would you like to do?\"\n",
    "    )\n",
    "    chat()"
   ],
   "id": "3071ff996174fe65",
   "outputs": [
    {
     "name": "stdout",
     "output_type": "stream",
     "text": [
      "Database Agent: Hello! I can help you manage the database. What would you like to do?\n",
      "> How many legs does my dog have?\n",
      "Please tell me your dog's name and how many legs it has. I can then store that information in my database.\n",
      "\n",
      "> My dogs name is frank, and frank has a normal amount of legs\n",
      "Getting all keys from the database\n",
      "Adding dogFrankLegs to database\n",
      "Frank has 4 legs. I have stored this information in my database under the key dogFrankLegs.\n",
      "\n"
     ]
    },
    {
     "ename": "KeyboardInterrupt",
     "evalue": "Interrupted by user",
     "output_type": "error",
     "traceback": [
      "\u001B[31m---------------------------------------------------------------------------\u001B[39m",
      "\u001B[31mKeyboardInterrupt\u001B[39m                         Traceback (most recent call last)",
      "\u001B[36mCell\u001B[39m\u001B[36m \u001B[39m\u001B[32mIn[44]\u001B[39m\u001B[32m, line 9\u001B[39m\n\u001B[32m      5\u001B[39m \u001B[38;5;66;03m# Start the chat loop\u001B[39;00m\n\u001B[32m      6\u001B[39m \u001B[38;5;28mprint\u001B[39m(\n\u001B[32m      7\u001B[39m     \u001B[33m\"\u001B[39m\u001B[33mDatabase Agent: Hello! I can help you manage the database. What would you like to do?\u001B[39m\u001B[33m\"\u001B[39m\n\u001B[32m      8\u001B[39m )\n\u001B[32m----> \u001B[39m\u001B[32m9\u001B[39m \u001B[43mchat\u001B[49m\u001B[43m(\u001B[49m\u001B[43m)\u001B[49m\n",
      "\u001B[36mCell\u001B[39m\u001B[36m \u001B[39m\u001B[32mIn[43]\u001B[39m\u001B[32m, line 63\u001B[39m, in \u001B[36mchat\u001B[39m\u001B[34m()\u001B[39m\n\u001B[32m     61\u001B[39m \u001B[38;5;250m\u001B[39m\u001B[33;03m\"\"\"Interactive chat loop for the database agent.\"\"\"\u001B[39;00m\n\u001B[32m     62\u001B[39m \u001B[38;5;28;01mwhile\u001B[39;00m \u001B[38;5;28;01mTrue\u001B[39;00m:\n\u001B[32m---> \u001B[39m\u001B[32m63\u001B[39m     utterance = \u001B[38;5;28;43minput\u001B[39;49m\u001B[43m(\u001B[49m\u001B[33;43m\"\u001B[39;49m\u001B[33;43m>\u001B[39;49m\u001B[33;43m\"\u001B[39;49m\u001B[43m)\u001B[49m.strip()\n\u001B[32m     64\u001B[39m     \u001B[38;5;28;01mif\u001B[39;00m \u001B[33m\"\u001B[39m\u001B[33mq\u001B[39m\u001B[33m\"\u001B[39m == utterance.casefold():\n\u001B[32m     65\u001B[39m         \u001B[38;5;28;01mbreak\u001B[39;00m\n",
      "\u001B[36mFile \u001B[39m\u001B[32m/Library/Frameworks/Python.framework/Versions/3.13/lib/python3.13/site-packages/ipykernel/kernelbase.py:1282\u001B[39m, in \u001B[36mKernel.raw_input\u001B[39m\u001B[34m(self, prompt)\u001B[39m\n\u001B[32m   1280\u001B[39m     msg = \u001B[33m\"\u001B[39m\u001B[33mraw_input was called, but this frontend does not support input requests.\u001B[39m\u001B[33m\"\u001B[39m\n\u001B[32m   1281\u001B[39m     \u001B[38;5;28;01mraise\u001B[39;00m StdinNotImplementedError(msg)\n\u001B[32m-> \u001B[39m\u001B[32m1282\u001B[39m \u001B[38;5;28;01mreturn\u001B[39;00m \u001B[38;5;28;43mself\u001B[39;49m\u001B[43m.\u001B[49m\u001B[43m_input_request\u001B[49m\u001B[43m(\u001B[49m\n\u001B[32m   1283\u001B[39m \u001B[43m    \u001B[49m\u001B[38;5;28;43mstr\u001B[39;49m\u001B[43m(\u001B[49m\u001B[43mprompt\u001B[49m\u001B[43m)\u001B[49m\u001B[43m,\u001B[49m\n\u001B[32m   1284\u001B[39m \u001B[43m    \u001B[49m\u001B[38;5;28;43mself\u001B[39;49m\u001B[43m.\u001B[49m\u001B[43m_parent_ident\u001B[49m\u001B[43m[\u001B[49m\u001B[33;43m\"\u001B[39;49m\u001B[33;43mshell\u001B[39;49m\u001B[33;43m\"\u001B[39;49m\u001B[43m]\u001B[49m\u001B[43m,\u001B[49m\n\u001B[32m   1285\u001B[39m \u001B[43m    \u001B[49m\u001B[38;5;28;43mself\u001B[39;49m\u001B[43m.\u001B[49m\u001B[43mget_parent\u001B[49m\u001B[43m(\u001B[49m\u001B[33;43m\"\u001B[39;49m\u001B[33;43mshell\u001B[39;49m\u001B[33;43m\"\u001B[39;49m\u001B[43m)\u001B[49m\u001B[43m,\u001B[49m\n\u001B[32m   1286\u001B[39m \u001B[43m    \u001B[49m\u001B[43mpassword\u001B[49m\u001B[43m=\u001B[49m\u001B[38;5;28;43;01mFalse\u001B[39;49;00m\u001B[43m,\u001B[49m\n\u001B[32m   1287\u001B[39m \u001B[43m\u001B[49m\u001B[43m)\u001B[49m\n",
      "\u001B[36mFile \u001B[39m\u001B[32m/Library/Frameworks/Python.framework/Versions/3.13/lib/python3.13/site-packages/ipykernel/kernelbase.py:1325\u001B[39m, in \u001B[36mKernel._input_request\u001B[39m\u001B[34m(self, prompt, ident, parent, password)\u001B[39m\n\u001B[32m   1322\u001B[39m \u001B[38;5;28;01mexcept\u001B[39;00m \u001B[38;5;167;01mKeyboardInterrupt\u001B[39;00m:\n\u001B[32m   1323\u001B[39m     \u001B[38;5;66;03m# re-raise KeyboardInterrupt, to truncate traceback\u001B[39;00m\n\u001B[32m   1324\u001B[39m     msg = \u001B[33m\"\u001B[39m\u001B[33mInterrupted by user\u001B[39m\u001B[33m\"\u001B[39m\n\u001B[32m-> \u001B[39m\u001B[32m1325\u001B[39m     \u001B[38;5;28;01mraise\u001B[39;00m \u001B[38;5;167;01mKeyboardInterrupt\u001B[39;00m(msg) \u001B[38;5;28;01mfrom\u001B[39;00m\u001B[38;5;250m \u001B[39m\u001B[38;5;28;01mNone\u001B[39;00m\n\u001B[32m   1326\u001B[39m \u001B[38;5;28;01mexcept\u001B[39;00m \u001B[38;5;167;01mException\u001B[39;00m:\n\u001B[32m   1327\u001B[39m     \u001B[38;5;28mself\u001B[39m.log.warning(\u001B[33m\"\u001B[39m\u001B[33mInvalid Message:\u001B[39m\u001B[33m\"\u001B[39m, exc_info=\u001B[38;5;28;01mTrue\u001B[39;00m)\n",
      "\u001B[31mKeyboardInterrupt\u001B[39m: Interrupted by user"
     ]
    }
   ],
   "execution_count": 44
  }
 ],
 "metadata": {
  "kernelspec": {
   "display_name": "Python 3",
   "language": "python",
   "name": "python3"
  },
  "language_info": {
   "codemirror_mode": {
    "name": "ipython",
    "version": 2
   },
   "file_extension": ".py",
   "mimetype": "text/x-python",
   "name": "python",
   "nbconvert_exporter": "python",
   "pygments_lexer": "ipython2",
   "version": "2.7.6"
  }
 },
 "nbformat": 4,
 "nbformat_minor": 5
}
