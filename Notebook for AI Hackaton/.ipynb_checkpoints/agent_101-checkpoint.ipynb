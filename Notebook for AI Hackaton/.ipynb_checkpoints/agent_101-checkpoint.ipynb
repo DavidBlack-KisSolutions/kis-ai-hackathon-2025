{
 "cells": [
  {
   "cell_type": "markdown",
   "id": "5c39ca97d8dfd067",
   "metadata": {
    "id": "5c39ca97d8dfd067"
   },
   "source": [
    "# Quintessential Agent/Tool\n",
    "\n",
    "The following code demonstrates how to use Langchain to create and Agent with a Tool and interact with it."
   ]
  },
  {
   "cell_type": "code",
   "source": "!pip3 install langchain_google_vertexai langgraph",
   "metadata": {
    "colab": {
     "base_uri": "https://localhost:8080/"
    },
    "id": "BESQyZ72eAlO",
    "outputId": "48d4a8ae-dc12-4933-d284-5137d51c9d44",
    "ExecuteTime": {
     "end_time": "2025-03-18T17:45:05.577018Z",
     "start_time": "2025-03-18T17:45:05.218392Z"
    }
   },
   "id": "BESQyZ72eAlO",
   "outputs": [
    {
     "name": "stdout",
     "output_type": "stream",
     "text": [
      "\r\n",
      "\u001B[1m[\u001B[0m\u001B[34;49mnotice\u001B[0m\u001B[1;39;49m]\u001B[0m\u001B[39;49m A new release of pip is available: \u001B[0m\u001B[31;49m24.2\u001B[0m\u001B[39;49m -> \u001B[0m\u001B[32;49m25.0.1\u001B[0m\r\n",
      "\u001B[1m[\u001B[0m\u001B[34;49mnotice\u001B[0m\u001B[1;39;49m]\u001B[0m\u001B[39;49m To update, run: \u001B[0m\u001B[32;49mpython3.13 -m pip install --upgrade pip\u001B[0m\r\n",
      "\u001B[1;31merror\u001B[0m: \u001B[1mexternally-managed-environment\u001B[0m\r\n",
      "\r\n",
      "\u001B[31m×\u001B[0m This environment is externally managed\r\n",
      "\u001B[31m╰─>\u001B[0m To install Python packages system-wide, try brew install\r\n",
      "\u001B[31m   \u001B[0m xyz, where xyz is the package you are trying to\r\n",
      "\u001B[31m   \u001B[0m install.\r\n",
      "\u001B[31m   \u001B[0m \r\n",
      "\u001B[31m   \u001B[0m If you wish to install a Python library that isn't in Homebrew,\r\n",
      "\u001B[31m   \u001B[0m use a virtual environment:\r\n",
      "\u001B[31m   \u001B[0m \r\n",
      "\u001B[31m   \u001B[0m python3 -m venv path/to/venv\r\n",
      "\u001B[31m   \u001B[0m source path/to/venv/bin/activate\r\n",
      "\u001B[31m   \u001B[0m python3 -m pip install xyz\r\n",
      "\u001B[31m   \u001B[0m \r\n",
      "\u001B[31m   \u001B[0m If you wish to install a Python application that isn't in Homebrew,\r\n",
      "\u001B[31m   \u001B[0m it may be easiest to use 'pipx install xyz', which will manage a\r\n",
      "\u001B[31m   \u001B[0m virtual environment for you. You can install pipx with\r\n",
      "\u001B[31m   \u001B[0m \r\n",
      "\u001B[31m   \u001B[0m brew install pipx\r\n",
      "\u001B[31m   \u001B[0m \r\n",
      "\u001B[31m   \u001B[0m You may restore the old behavior of pip by passing\r\n",
      "\u001B[31m   \u001B[0m the '--break-system-packages' flag to pip, or by adding\r\n",
      "\u001B[31m   \u001B[0m 'break-system-packages = true' to your pip.conf file. The latter\r\n",
      "\u001B[31m   \u001B[0m will permanently disable this error.\r\n",
      "\u001B[31m   \u001B[0m \r\n",
      "\u001B[31m   \u001B[0m If you disable this error, we STRONGLY recommend that you additionally\r\n",
      "\u001B[31m   \u001B[0m pass the '--user' flag to pip, or set 'user = true' in your pip.conf\r\n",
      "\u001B[31m   \u001B[0m file. Failure to do this can result in a broken Homebrew installation.\r\n",
      "\u001B[31m   \u001B[0m \r\n",
      "\u001B[31m   \u001B[0m Read more about this behavior here: <https://peps.python.org/pep-0668/>\r\n",
      "\r\n",
      "\u001B[1;35mnote\u001B[0m: If you believe this is a mistake, please contact your Python installation or OS distribution provider. You can override this, at the risk of breaking your Python installation or OS, by passing --break-system-packages.\r\n",
      "\u001B[1;36mhint\u001B[0m: See PEP 668 for the detailed specification.\r\n"
     ]
    }
   ],
   "execution_count": 14
  },
  {
   "cell_type": "code",
   "id": "a8647b42dc349513",
   "metadata": {
    "id": "a8647b42dc349513",
    "ExecuteTime": {
     "end_time": "2025-03-18T17:45:07.284906Z",
     "start_time": "2025-03-18T17:45:07.274573Z"
    }
   },
   "source": [
    "import os\n",
    "\n",
    "from langchain_core.messages import HumanMessage\n",
    "from langchain_core.prompts import ChatPromptTemplate\n",
    "from langchain_core.tools import StructuredTool\n",
    "from langchain_google_vertexai import ChatVertexAI\n",
    "from langgraph.checkpoint.memory import MemorySaver\n",
    "from langgraph.prebuilt import create_react_agent\n",
    "from pydantic import BaseModel, Field\n",
    "\n",
    "# authentication\n",
    "os.environ['GOOGLE_APPLICATION_CREDENTIALS'] = './credentials.json'\n"
   ],
   "outputs": [
    {
     "ename": "ModuleNotFoundError",
     "evalue": "No module named 'langchain_core'",
     "output_type": "error",
     "traceback": [
      "\u001B[0;31m---------------------------------------------------------------------------\u001B[0m",
      "\u001B[0;31mModuleNotFoundError\u001B[0m                       Traceback (most recent call last)",
      "Cell \u001B[0;32mIn[15], line 3\u001B[0m\n\u001B[1;32m      1\u001B[0m \u001B[38;5;28;01mimport\u001B[39;00m\u001B[38;5;250m \u001B[39m\u001B[38;5;21;01mos\u001B[39;00m\n\u001B[0;32m----> 3\u001B[0m \u001B[38;5;28;01mfrom\u001B[39;00m\u001B[38;5;250m \u001B[39m\u001B[38;5;21;01mlangchain_core\u001B[39;00m\u001B[38;5;21;01m.\u001B[39;00m\u001B[38;5;21;01mmessages\u001B[39;00m\u001B[38;5;250m \u001B[39m\u001B[38;5;28;01mimport\u001B[39;00m HumanMessage\n\u001B[1;32m      4\u001B[0m \u001B[38;5;28;01mfrom\u001B[39;00m\u001B[38;5;250m \u001B[39m\u001B[38;5;21;01mlangchain_core\u001B[39;00m\u001B[38;5;21;01m.\u001B[39;00m\u001B[38;5;21;01mprompts\u001B[39;00m\u001B[38;5;250m \u001B[39m\u001B[38;5;28;01mimport\u001B[39;00m ChatPromptTemplate\n\u001B[1;32m      5\u001B[0m \u001B[38;5;28;01mfrom\u001B[39;00m\u001B[38;5;250m \u001B[39m\u001B[38;5;21;01mlangchain_core\u001B[39;00m\u001B[38;5;21;01m.\u001B[39;00m\u001B[38;5;21;01mtools\u001B[39;00m\u001B[38;5;250m \u001B[39m\u001B[38;5;28;01mimport\u001B[39;00m StructuredTool\n",
      "\u001B[0;31mModuleNotFoundError\u001B[0m: No module named 'langchain_core'"
     ]
    }
   ],
   "execution_count": 15
  },
  {
   "cell_type": "markdown",
   "id": "2c79c8a5-b6b0-45e0-9bb9-844116def215",
   "metadata": {
    "id": "2c79c8a5-b6b0-45e0-9bb9-844116def215"
   },
   "source": [
    "Create a simple calculator tool that can multiply two numners."
   ]
  },
  {
   "cell_type": "code",
   "execution_count": 4,
   "id": "55636cd0e76ce725",
   "metadata": {
    "ExecuteTime": {
     "end_time": "2025-03-14T17:47:22.384089Z",
     "start_time": "2025-03-14T17:47:22.376153Z"
    },
    "id": "55636cd0e76ce725"
   },
   "outputs": [],
   "source": [
    "def multiply(a: int, b: int) -> int:\n",
    "    \"\"\"Multiply two numbers.\"\"\"\n",
    "    return a * b\n",
    "\n",
    "# Pydantic input model which the Agent will use to slot fill...\n",
    "class CalculatorInput(BaseModel):\n",
    "    a: int = Field(description=\"first number\")\n",
    "    b: int = Field(description=\"second number\")\n",
    "\n",
    "# build tool from function\n",
    "calculator = StructuredTool.from_function(\n",
    "    func=multiply,\n",
    "    # coroutine=\n",
    "    name=\"Calculator\",\n",
    "    description=\"multiply numbers\",\n",
    "    args_schema=CalculatorInput,\n",
    "    return_direct=False,\n",
    ")"
   ]
  },
  {
   "cell_type": "markdown",
   "id": "f46d1553-a37b-4f07-b99c-e8a7f5edef77",
   "metadata": {
    "id": "f46d1553-a37b-4f07-b99c-e8a7f5edef77"
   },
   "source": [
    "Now assemble the agent (llm + tools + prompt + memory)"
   ]
  },
  {
   "cell_type": "code",
   "execution_count": 6,
   "id": "5a22f7a2-0142-480b-9e7a-fdf244031e2b",
   "metadata": {
    "id": "5a22f7a2-0142-480b-9e7a-fdf244031e2b"
   },
   "outputs": [],
   "source": [
    "# instantiate the chat model\n",
    "model = ChatVertexAI(model='gemini-1.5-pro-002')  # gemini-1.5-flash\n",
    "\n",
    "# bind the tools\n",
    "tools = []\n",
    "tools.append(calculator)\n",
    "model_with_tools = model.bind_tools(tools)\n",
    "\n",
    "prompt = ChatPromptTemplate.from_messages([\n",
    "    (\"system\", \"You are a helpful assistent named Amy.\"),\n",
    "    (\"placeholder\", \"{messages}\"),\n",
    "    # (\"user\", \"Remember, always be polite!\"),\n",
    "])\n",
    "\n",
    "# create memory\n",
    "memory = MemorySaver()\n",
    "\n",
    "# create agent executor\n",
    "agent_executor = create_react_agent(model_with_tools, tools, prompt=prompt, checkpointer=memory)"
   ]
  },
  {
   "cell_type": "markdown",
   "id": "38118ce3-f9d0-4891-9dfa-242158941bce",
   "metadata": {
    "id": "38118ce3-f9d0-4891-9dfa-242158941bce"
   },
   "source": [
    "Simple function to perform invoke on the agent executor with the users utternace and return the agents response."
   ]
  },
  {
   "cell_type": "code",
   "execution_count": 7,
   "id": "bce43679bfe1bca0",
   "metadata": {
    "ExecuteTime": {
     "end_time": "2025-03-14T17:47:22.392778Z",
     "start_time": "2025-03-14T17:47:22.390423Z"
    },
    "id": "bce43679bfe1bca0"
   },
   "outputs": [],
   "source": [
    "def invoke(utterance: str) -> str:\n",
    "    thread_id = \"abc123\"\n",
    "    response = agent_executor.invoke(\n",
    "        {\n",
    "            \"messages\": [HumanMessage(content=utterance)]\n",
    "        },\n",
    "        config={\n",
    "            \"configurable\": {\"thread_id\": thread_id}\n",
    "        }\n",
    "    )\n",
    "    messages = response[\"messages\"]\n",
    "    ai_message = messages[-1].content\n",
    "    return ai_message"
   ]
  },
  {
   "cell_type": "markdown",
   "id": "c81e1394-9095-47e9-b256-bc818318c441",
   "metadata": {
    "id": "c81e1394-9095-47e9-b256-bc818318c441"
   },
   "source": [
    "Chat RPEL"
   ]
  },
  {
   "cell_type": "code",
   "execution_count": 8,
   "id": "33da49997e7a8cf",
   "metadata": {
    "ExecuteTime": {
     "end_time": "2025-03-14T17:47:22.400272Z",
     "start_time": "2025-03-14T17:47:22.398207Z"
    },
    "id": "33da49997e7a8cf"
   },
   "outputs": [],
   "source": [
    "def chat():\n",
    "    while True:\n",
    "        utterance = input(\">\").strip()\n",
    "        if \"q\" == utterance.casefold():\n",
    "            break\n",
    "        print(invoke(utterance))\n",
    "    print(\"Goodbye\")"
   ]
  },
  {
   "cell_type": "code",
   "execution_count": null,
   "id": "c87eb082078070c",
   "metadata": {
    "ExecuteTime": {
     "end_time": "2025-03-14T17:47:27.924961Z",
     "start_time": "2025-03-14T17:47:22.405415Z"
    },
    "colab": {
     "base_uri": "https://localhost:8080/"
    },
    "id": "c87eb082078070c",
    "outputId": "26bfb8a8-26d7-4c26-b223-9b1b0f049f4c"
   },
   "outputs": [
    {
     "output_type": "stream",
     "name": "stdout",
     "text": [
      ">Hey there what can you do?\n",
      "I'm Amy, your helpful assistant. I can perform calculations, such as multiplying two numbers.  Do you have any calculations you'd like me to perform?\n",
      "\n"
     ]
    }
   ],
   "source": [
    "chat()"
   ]
  }
 ],
 "metadata": {
  "kernelspec": {
   "display_name": "Python 3 (ipykernel)",
   "language": "python",
   "name": "python3"
  },
  "language_info": {
   "codemirror_mode": {
    "name": "ipython",
    "version": 3
   },
   "file_extension": ".py",
   "mimetype": "text/x-python",
   "name": "python",
   "nbconvert_exporter": "python",
   "pygments_lexer": "ipython3",
   "version": "3.13.0"
  },
  "colab": {
   "provenance": []
  }
 },
 "nbformat": 4,
 "nbformat_minor": 5
}
