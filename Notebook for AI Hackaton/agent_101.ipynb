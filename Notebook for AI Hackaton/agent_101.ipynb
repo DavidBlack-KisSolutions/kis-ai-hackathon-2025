{
 "cells": [
  {
   "cell_type": "markdown",
   "id": "5c39ca97d8dfd067",
   "metadata": {
    "id": "5c39ca97d8dfd067"
   },
   "source": [
    "# Quintessential Agent/Tool\n",
    "\n",
    "The following code demonstrates how to use Langchain to create and Agent with a Tool and interact with it."
   ]
  },
  {
   "cell_type": "code",
   "source": "!pip install langchain_google_vertexai langgraph",
   "metadata": {
    "colab": {
     "base_uri": "https://localhost:8080/"
    },
    "id": "BESQyZ72eAlO",
    "outputId": "48d4a8ae-dc12-4933-d284-5137d51c9d44",
    "ExecuteTime": {
     "end_time": "2025-03-18T18:21:48.466273Z",
     "start_time": "2025-03-18T18:21:48.339688Z"
    }
   },
   "id": "BESQyZ72eAlO",
   "outputs": [
    {
     "name": "stdout",
     "output_type": "stream",
     "text": [
      "zsh:1: command not found: pip\r\n"
     ]
    }
   ],
   "execution_count": 8
  },
  {
   "cell_type": "code",
   "id": "a8647b42dc349513",
   "metadata": {
    "id": "a8647b42dc349513",
    "ExecuteTime": {
     "end_time": "2025-03-18T18:21:48.471043Z",
     "start_time": "2025-03-18T18:21:48.469039Z"
    }
   },
   "source": [
    "import os\n",
    "\n",
    "from langchain_core.messages import HumanMessage\n",
    "from langchain_core.prompts import ChatPromptTemplate\n",
    "from langchain_core.tools import StructuredTool\n",
    "from langchain_google_vertexai import ChatVertexAI\n",
    "from langgraph.checkpoint.memory import MemorySaver\n",
    "from langgraph.prebuilt import create_react_agent\n",
    "from pydantic import BaseModel, Field\n",
    "\n",
    "# authentication\n",
    "os.environ['GOOGLE_APPLICATION_CREDENTIALS'] = './credentials.json'\n"
   ],
   "outputs": [],
   "execution_count": 9
  },
  {
   "cell_type": "markdown",
   "id": "2c79c8a5-b6b0-45e0-9bb9-844116def215",
   "metadata": {
    "id": "2c79c8a5-b6b0-45e0-9bb9-844116def215"
   },
   "source": [
    "Create a simple calculator tool that can multiply two numners."
   ]
  },
  {
   "cell_type": "code",
   "id": "55636cd0e76ce725",
   "metadata": {
    "id": "55636cd0e76ce725",
    "ExecuteTime": {
     "end_time": "2025-03-18T18:21:48.478298Z",
     "start_time": "2025-03-18T18:21:48.475585Z"
    }
   },
   "source": [
    "def multiply(a: int, b: int) -> int:\n",
    "    \"\"\"Multiply two numbers.\"\"\"\n",
    "    return a * b\n",
    "\n",
    "# Pydantic input model which the Agent will use to slot fill...\n",
    "class CalculatorInput(BaseModel):\n",
    "    a: int = Field(description=\"first number\")\n",
    "    b: int = Field(description=\"second number\")\n",
    "\n",
    "# build tool from function\n",
    "calculator = StructuredTool.from_function(\n",
    "    func=multiply,\n",
    "    # coroutine=\n",
    "    name=\"Calculator\",\n",
    "    description=\"multiply numbers\",\n",
    "    args_schema=CalculatorInput,\n",
    "    return_direct=False,\n",
    ")"
   ],
   "outputs": [],
   "execution_count": 10
  },
  {
   "cell_type": "markdown",
   "id": "f46d1553-a37b-4f07-b99c-e8a7f5edef77",
   "metadata": {
    "id": "f46d1553-a37b-4f07-b99c-e8a7f5edef77"
   },
   "source": [
    "Now assemble the agent (llm + tools + prompt + memory)"
   ]
  },
  {
   "cell_type": "code",
   "id": "5a22f7a2-0142-480b-9e7a-fdf244031e2b",
   "metadata": {
    "id": "5a22f7a2-0142-480b-9e7a-fdf244031e2b",
    "ExecuteTime": {
     "end_time": "2025-03-18T18:21:48.488603Z",
     "start_time": "2025-03-18T18:21:48.482216Z"
    }
   },
   "source": [
    "# instantiate the chat model\n",
    "model = ChatVertexAI(model='gemini-1.5-pro-002')  # gemini-1.5-flash\n",
    "\n",
    "# bind the tools\n",
    "tools = []\n",
    "tools.append(calculator)\n",
    "model_with_tools = model.bind_tools(tools)\n",
    "\n",
    "prompt = ChatPromptTemplate.from_messages([\n",
    "    (\"system\", \"You are a helpful assistent named Amy.\"),\n",
    "    (\"placeholder\", \"{messages}\"),\n",
    "    # (\"user\", \"Remember, always be polite!\"),\n",
    "])\n",
    "\n",
    "# create memory\n",
    "memory = MemorySaver()\n",
    "\n",
    "# create agent executor\n",
    "agent_executor = create_react_agent(model_with_tools, tools, prompt=prompt, checkpointer=memory)"
   ],
   "outputs": [],
   "execution_count": 11
  },
  {
   "cell_type": "markdown",
   "id": "38118ce3-f9d0-4891-9dfa-242158941bce",
   "metadata": {
    "id": "38118ce3-f9d0-4891-9dfa-242158941bce"
   },
   "source": [
    "Simple function to perform invoke on the agent executor with the users utternace and return the agents response."
   ]
  },
  {
   "cell_type": "code",
   "id": "bce43679bfe1bca0",
   "metadata": {
    "id": "bce43679bfe1bca0",
    "ExecuteTime": {
     "end_time": "2025-03-18T18:21:48.494209Z",
     "start_time": "2025-03-18T18:21:48.492596Z"
    }
   },
   "source": [
    "def invoke(utterance: str) -> str:\n",
    "    thread_id = \"abc123\"\n",
    "    response = agent_executor.invoke(\n",
    "        {\n",
    "            \"messages\": [HumanMessage(content=utterance)]\n",
    "        },\n",
    "        config={\n",
    "            \"configurable\": {\"thread_id\": thread_id}\n",
    "        }\n",
    "    )\n",
    "    messages = response[\"messages\"]\n",
    "    ai_message = messages[-1].content\n",
    "    return ai_message"
   ],
   "outputs": [],
   "execution_count": 12
  },
  {
   "cell_type": "markdown",
   "id": "c81e1394-9095-47e9-b256-bc818318c441",
   "metadata": {
    "id": "c81e1394-9095-47e9-b256-bc818318c441"
   },
   "source": [
    "Chat RPEL"
   ]
  },
  {
   "cell_type": "code",
   "id": "33da49997e7a8cf",
   "metadata": {
    "id": "33da49997e7a8cf",
    "ExecuteTime": {
     "end_time": "2025-03-18T18:21:48.500814Z",
     "start_time": "2025-03-18T18:21:48.499147Z"
    }
   },
   "source": [
    "def chat():\n",
    "    while True:\n",
    "        utterance = input(\">\").strip()\n",
    "        if \"q\" == utterance.casefold():\n",
    "            break\n",
    "        print(invoke(utterance))\n",
    "    print(\"Goodbye\")"
   ],
   "outputs": [],
   "execution_count": 13
  },
  {
   "cell_type": "code",
   "id": "c87eb082078070c",
   "metadata": {
    "colab": {
     "base_uri": "https://localhost:8080/"
    },
    "id": "c87eb082078070c",
    "outputId": "26bfb8a8-26d7-4c26-b223-9b1b0f049f4c",
    "ExecuteTime": {
     "end_time": "2025-03-18T18:22:37.903019Z",
     "start_time": "2025-03-18T18:22:26.493092Z"
    }
   },
   "source": [
    "chat()"
   ],
   "outputs": [
    {
     "name": "stdout",
     "output_type": "stream",
     "text": [
      "6 times 7 is 42.\n",
      "\n",
      "Goodbye\n"
     ]
    }
   ],
   "execution_count": 15
  }
 ],
 "metadata": {
  "kernelspec": {
   "display_name": "Python 3 (ipykernel)",
   "language": "python",
   "name": "python3"
  },
  "language_info": {
   "codemirror_mode": {
    "name": "ipython",
    "version": 3
   },
   "file_extension": ".py",
   "mimetype": "text/x-python",
   "name": "python",
   "nbconvert_exporter": "python",
   "pygments_lexer": "ipython3",
   "version": "3.13.0"
  },
  "colab": {
   "provenance": []
  }
 },
 "nbformat": 4,
 "nbformat_minor": 5
}
