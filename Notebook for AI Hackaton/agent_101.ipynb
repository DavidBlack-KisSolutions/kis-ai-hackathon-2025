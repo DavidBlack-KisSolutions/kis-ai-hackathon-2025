{
 "cells": [
  {
   "cell_type": "markdown",
   "id": "5c39ca97d8dfd067",
   "metadata": {
    "id": "5c39ca97d8dfd067"
   },
   "source": [
    "# Quintessential Agent/Tool\n",
    "\n",
    "The following code demonstrates how to use Langchain to create and Agent with a Tool and interact with it."
   ]
  },
  {
   "cell_type": "code",
   "source": "!pip install langchain_google_vertexai langgraph",
   "metadata": {
    "colab": {
     "base_uri": "https://localhost:8080/"
    },
    "id": "BESQyZ72eAlO",
    "outputId": "48d4a8ae-dc12-4933-d284-5137d51c9d44",
    "ExecuteTime": {
     "end_time": "2025-03-18T18:18:20.158582Z",
     "start_time": "2025-03-18T18:18:20.040379Z"
    }
   },
   "id": "BESQyZ72eAlO",
   "outputs": [
    {
     "name": "stdout",
     "output_type": "stream",
     "text": [
      "zsh:1: command not found: pip\r\n"
     ]
    }
   ],
   "execution_count": 1
  },
  {
   "cell_type": "code",
   "id": "a8647b42dc349513",
   "metadata": {
    "id": "a8647b42dc349513",
    "ExecuteTime": {
     "end_time": "2025-03-18T18:18:22.571979Z",
     "start_time": "2025-03-18T18:18:21.187730Z"
    }
   },
   "source": [
    "import os\n",
    "\n",
    "from langchain_core.messages import HumanMessage\n",
    "from langchain_core.prompts import ChatPromptTemplate\n",
    "from langchain_core.tools import StructuredTool\n",
    "from langchain_google_vertexai import ChatVertexAI\n",
    "from langgraph.checkpoint.memory import MemorySaver\n",
    "from langgraph.prebuilt import create_react_agent\n",
    "from pydantic import BaseModel, Field\n",
    "\n",
    "# authentication\n",
    "os.environ['GOOGLE_APPLICATION_CREDENTIALS'] = './credentials.json'\n"
   ],
   "outputs": [],
   "execution_count": 2
  },
  {
   "cell_type": "markdown",
   "id": "2c79c8a5-b6b0-45e0-9bb9-844116def215",
   "metadata": {
    "id": "2c79c8a5-b6b0-45e0-9bb9-844116def215"
   },
   "source": [
    "Create a simple calculator tool that can multiply two numners."
   ]
  },
  {
   "cell_type": "code",
   "id": "55636cd0e76ce725",
   "metadata": {
    "id": "55636cd0e76ce725",
    "ExecuteTime": {
     "end_time": "2025-03-18T18:17:01.261713Z",
     "start_time": "2025-03-18T18:17:01.258782Z"
    }
   },
   "source": [
    "def multiply(a: int, b: int) -> int:\n",
    "    \"\"\"Multiply two numbers.\"\"\"\n",
    "    return a * b\n",
    "\n",
    "# Pydantic input model which the Agent will use to slot fill...\n",
    "class CalculatorInput(BaseModel):\n",
    "    a: int = Field(description=\"first number\")\n",
    "    b: int = Field(description=\"second number\")\n",
    "\n",
    "# build tool from function\n",
    "calculator = StructuredTool.from_function(\n",
    "    func=multiply,\n",
    "    # coroutine=\n",
    "    name=\"Calculator\",\n",
    "    description=\"multiply numbers\",\n",
    "    args_schema=CalculatorInput,\n",
    "    return_direct=False,\n",
    ")"
   ],
   "outputs": [],
   "execution_count": 28
  },
  {
   "cell_type": "markdown",
   "id": "f46d1553-a37b-4f07-b99c-e8a7f5edef77",
   "metadata": {
    "id": "f46d1553-a37b-4f07-b99c-e8a7f5edef77"
   },
   "source": [
    "Now assemble the agent (llm + tools + prompt + memory)"
   ]
  },
  {
   "cell_type": "code",
   "id": "5a22f7a2-0142-480b-9e7a-fdf244031e2b",
   "metadata": {
    "id": "5a22f7a2-0142-480b-9e7a-fdf244031e2b",
    "ExecuteTime": {
     "end_time": "2025-03-18T18:17:01.273568Z",
     "start_time": "2025-03-18T18:17:01.266491Z"
    }
   },
   "source": [
    "# instantiate the chat model\n",
    "model = ChatVertexAI(model='gemini-1.5-pro-002')  # gemini-1.5-flash\n",
    "\n",
    "# bind the tools\n",
    "tools = []\n",
    "tools.append(calculator)\n",
    "model_with_tools = model.bind_tools(tools)\n",
    "\n",
    "prompt = ChatPromptTemplate.from_messages([\n",
    "    (\"system\", \"You are a helpful assistent named Amy.\"),\n",
    "    (\"placeholder\", \"{messages}\"),\n",
    "    # (\"user\", \"Remember, always be polite!\"),\n",
    "])\n",
    "\n",
    "# create memory\n",
    "memory = MemorySaver()\n",
    "\n",
    "# create agent executor\n",
    "agent_executor = create_react_agent(model_with_tools, tools, prompt=prompt, checkpointer=memory)"
   ],
   "outputs": [],
   "execution_count": 29
  },
  {
   "cell_type": "markdown",
   "id": "38118ce3-f9d0-4891-9dfa-242158941bce",
   "metadata": {
    "id": "38118ce3-f9d0-4891-9dfa-242158941bce"
   },
   "source": [
    "Simple function to perform invoke on the agent executor with the users utternace and return the agents response."
   ]
  },
  {
   "cell_type": "code",
   "id": "bce43679bfe1bca0",
   "metadata": {
    "id": "bce43679bfe1bca0",
    "ExecuteTime": {
     "end_time": "2025-03-18T18:17:45.379656Z",
     "start_time": "2025-03-18T18:17:45.376758Z"
    }
   },
   "source": [
    "def invoke(utterance: str) -> str:\n",
    "    thread_id = \"abc123\"\n",
    "    response = agent_executor.invoke(\n",
    "        {\n",
    "            \"messages\": [HumanMessage(content=utterance)]\n",
    "        },\n",
    "        config={\n",
    "            \"configurable\": {\"thread_id\": thread_id}\n",
    "        }\n",
    "    )\n",
    "    messages = response[\"messages\"]\n",
    "    ai_message = messages[-1].content\n",
    "    return ai_message"
   ],
   "outputs": [],
   "execution_count": 34
  },
  {
   "cell_type": "markdown",
   "id": "c81e1394-9095-47e9-b256-bc818318c441",
   "metadata": {
    "id": "c81e1394-9095-47e9-b256-bc818318c441"
   },
   "source": [
    "Chat RPEL"
   ]
  },
  {
   "cell_type": "code",
   "id": "33da49997e7a8cf",
   "metadata": {
    "id": "33da49997e7a8cf",
    "ExecuteTime": {
     "end_time": "2025-03-18T18:17:48.608098Z",
     "start_time": "2025-03-18T18:17:48.605620Z"
    }
   },
   "source": [
    "def chat():\n",
    "    while True:\n",
    "        utterance = input(\">\").strip()\n",
    "        if \"q\" == utterance.casefold():\n",
    "            break\n",
    "        print(invoke(utterance))\n",
    "    print(\"Goodbye\")"
   ],
   "outputs": [],
   "execution_count": 35
  },
  {
   "cell_type": "code",
   "id": "c87eb082078070c",
   "metadata": {
    "colab": {
     "base_uri": "https://localhost:8080/"
    },
    "id": "c87eb082078070c",
    "outputId": "26bfb8a8-26d7-4c26-b223-9b1b0f049f4c",
    "ExecuteTime": {
     "end_time": "2025-03-18T18:18:10.329273Z",
     "start_time": "2025-03-18T18:17:50.931640Z"
    }
   },
   "source": [
    "chat()"
   ],
   "outputs": [
    {
     "ename": "KeyboardInterrupt",
     "evalue": "",
     "output_type": "error",
     "traceback": [
      "\u001B[31m---------------------------------------------------------------------------\u001B[39m",
      "\u001B[31mKeyboardInterrupt\u001B[39m                         Traceback (most recent call last)",
      "\u001B[36mCell\u001B[39m\u001B[36m \u001B[39m\u001B[32mIn[36]\u001B[39m\u001B[32m, line 1\u001B[39m\n\u001B[32m----> \u001B[39m\u001B[32m1\u001B[39m \u001B[43mchat\u001B[49m\u001B[43m(\u001B[49m\u001B[43m)\u001B[49m\n",
      "\u001B[36mCell\u001B[39m\u001B[36m \u001B[39m\u001B[32mIn[35]\u001B[39m\u001B[32m, line 6\u001B[39m, in \u001B[36mchat\u001B[39m\u001B[34m()\u001B[39m\n\u001B[32m      4\u001B[39m     \u001B[38;5;28;01mif\u001B[39;00m \u001B[33m\"\u001B[39m\u001B[33mq\u001B[39m\u001B[33m\"\u001B[39m == utterance.casefold():\n\u001B[32m      5\u001B[39m         \u001B[38;5;28;01mbreak\u001B[39;00m\n\u001B[32m----> \u001B[39m\u001B[32m6\u001B[39m     \u001B[38;5;28mprint\u001B[39m(\u001B[43minvoke\u001B[49m\u001B[43m(\u001B[49m\u001B[43mutterance\u001B[49m\u001B[43m)\u001B[49m)\n\u001B[32m      7\u001B[39m \u001B[38;5;28mprint\u001B[39m(\u001B[33m\"\u001B[39m\u001B[33mGoodbye\u001B[39m\u001B[33m\"\u001B[39m)\n",
      "\u001B[36mCell\u001B[39m\u001B[36m \u001B[39m\u001B[32mIn[34]\u001B[39m\u001B[32m, line 3\u001B[39m, in \u001B[36minvoke\u001B[39m\u001B[34m(utterance)\u001B[39m\n\u001B[32m      1\u001B[39m \u001B[38;5;28;01mdef\u001B[39;00m\u001B[38;5;250m \u001B[39m\u001B[34minvoke\u001B[39m(utterance: \u001B[38;5;28mstr\u001B[39m) -> \u001B[38;5;28mstr\u001B[39m:\n\u001B[32m      2\u001B[39m     thread_id = \u001B[33m\"\u001B[39m\u001B[33mabc123\u001B[39m\u001B[33m\"\u001B[39m\n\u001B[32m----> \u001B[39m\u001B[32m3\u001B[39m     response = \u001B[43magent_executor\u001B[49m.invoke(\n\u001B[32m      4\u001B[39m         {\n\u001B[32m      5\u001B[39m             \u001B[33m\"\u001B[39m\u001B[33mmessages\u001B[39m\u001B[33m\"\u001B[39m: [HumanMessage(content=utterance)]\n\u001B[32m      6\u001B[39m         },\n\u001B[32m      7\u001B[39m         config={\n\u001B[32m      8\u001B[39m             \u001B[33m\"\u001B[39m\u001B[33mconfigurable\u001B[39m\u001B[33m\"\u001B[39m: {\u001B[33m\"\u001B[39m\u001B[33mthread_id\u001B[39m\u001B[33m\"\u001B[39m: thread_id}\n\u001B[32m      9\u001B[39m         }\n\u001B[32m     10\u001B[39m     )\n\u001B[32m     11\u001B[39m     messages = response[\u001B[33m\"\u001B[39m\u001B[33mmessages\u001B[39m\u001B[33m\"\u001B[39m]\n\u001B[32m     12\u001B[39m     ai_message = messages[-\u001B[32m1\u001B[39m].content\n",
      "\u001B[36mFile \u001B[39m\u001B[32m~/Library/Application Support/JetBrains/IntelliJIdea2024.3/plugins/python-ce/helpers/pydev/_pydevd_bundle/pydevd_frame.py:888\u001B[39m, in \u001B[36mPyDBFrame.trace_dispatch\u001B[39m\u001B[34m(self, frame, event, arg)\u001B[39m\n\u001B[32m    885\u001B[39m             stop = \u001B[38;5;28;01mFalse\u001B[39;00m\n\u001B[32m    887\u001B[39m \u001B[38;5;28;01mif\u001B[39;00m plugin_stop:\n\u001B[32m--> \u001B[39m\u001B[32m888\u001B[39m     stopped_on_plugin = \u001B[43mplugin_manager\u001B[49m\u001B[43m.\u001B[49m\u001B[43mstop\u001B[49m\u001B[43m(\u001B[49m\u001B[43mmain_debugger\u001B[49m\u001B[43m,\u001B[49m\u001B[43m \u001B[49m\u001B[43mframe\u001B[49m\u001B[43m,\u001B[49m\u001B[43m \u001B[49m\u001B[43mevent\u001B[49m\u001B[43m,\u001B[49m\u001B[43m \u001B[49m\u001B[38;5;28;43mself\u001B[39;49m\u001B[43m.\u001B[49m\u001B[43m_args\u001B[49m\u001B[43m,\u001B[49m\u001B[43m \u001B[49m\u001B[43mstop_info\u001B[49m\u001B[43m,\u001B[49m\u001B[43m \u001B[49m\u001B[43marg\u001B[49m\u001B[43m,\u001B[49m\u001B[43m \u001B[49m\u001B[43mstep_cmd\u001B[49m\u001B[43m)\u001B[49m\n\u001B[32m    889\u001B[39m \u001B[38;5;28;01melif\u001B[39;00m stop:\n\u001B[32m    890\u001B[39m     \u001B[38;5;28;01mif\u001B[39;00m is_line:\n",
      "\u001B[36mFile \u001B[39m\u001B[32m~/Library/Application Support/JetBrains/IntelliJIdea2024.3/plugins/python/helpers-pro/jupyter_debug/pydev_jupyter_plugin.py:169\u001B[39m, in \u001B[36mstop\u001B[39m\u001B[34m(plugin, pydb, frame, event, args, stop_info, arg, step_cmd)\u001B[39m\n\u001B[32m    167\u001B[39m     frame = suspend_jupyter(main_debugger, thread, frame, step_cmd)\n\u001B[32m    168\u001B[39m     \u001B[38;5;28;01mif\u001B[39;00m frame:\n\u001B[32m--> \u001B[39m\u001B[32m169\u001B[39m         \u001B[43mmain_debugger\u001B[49m\u001B[43m.\u001B[49m\u001B[43mdo_wait_suspend\u001B[49m\u001B[43m(\u001B[49m\u001B[43mthread\u001B[49m\u001B[43m,\u001B[49m\u001B[43m \u001B[49m\u001B[43mframe\u001B[49m\u001B[43m,\u001B[49m\u001B[43m \u001B[49m\u001B[43mevent\u001B[49m\u001B[43m,\u001B[49m\u001B[43m \u001B[49m\u001B[43marg\u001B[49m\u001B[43m)\u001B[49m\n\u001B[32m    170\u001B[39m         \u001B[38;5;28;01mreturn\u001B[39;00m \u001B[38;5;28;01mTrue\u001B[39;00m\n\u001B[32m    171\u001B[39m \u001B[38;5;28;01mreturn\u001B[39;00m \u001B[38;5;28;01mFalse\u001B[39;00m\n",
      "\u001B[36mFile \u001B[39m\u001B[32m~/Library/Application Support/JetBrains/IntelliJIdea2024.3/plugins/python-ce/helpers/pydev/pydevd.py:1220\u001B[39m, in \u001B[36mPyDB.do_wait_suspend\u001B[39m\u001B[34m(self, thread, frame, event, arg, send_suspend_message, is_unhandled_exception)\u001B[39m\n\u001B[32m   1217\u001B[39m         from_this_thread.append(frame_id)\n\u001B[32m   1219\u001B[39m \u001B[38;5;28;01mwith\u001B[39;00m \u001B[38;5;28mself\u001B[39m._threads_suspended_single_notification.notify_thread_suspended(thread_id, stop_reason):\n\u001B[32m-> \u001B[39m\u001B[32m1220\u001B[39m     \u001B[38;5;28;43mself\u001B[39;49m\u001B[43m.\u001B[49m\u001B[43m_do_wait_suspend\u001B[49m\u001B[43m(\u001B[49m\u001B[43mthread\u001B[49m\u001B[43m,\u001B[49m\u001B[43m \u001B[49m\u001B[43mframe\u001B[49m\u001B[43m,\u001B[49m\u001B[43m \u001B[49m\u001B[43mevent\u001B[49m\u001B[43m,\u001B[49m\u001B[43m \u001B[49m\u001B[43marg\u001B[49m\u001B[43m,\u001B[49m\u001B[43m \u001B[49m\u001B[43msuspend_type\u001B[49m\u001B[43m,\u001B[49m\u001B[43m \u001B[49m\u001B[43mfrom_this_thread\u001B[49m\u001B[43m)\u001B[49m\n",
      "\u001B[36mFile \u001B[39m\u001B[32m~/Library/Application Support/JetBrains/IntelliJIdea2024.3/plugins/python-ce/helpers/pydev/pydevd.py:1235\u001B[39m, in \u001B[36mPyDB._do_wait_suspend\u001B[39m\u001B[34m(self, thread, frame, event, arg, suspend_type, from_this_thread)\u001B[39m\n\u001B[32m   1232\u001B[39m             \u001B[38;5;28mself\u001B[39m._call_mpl_hook()\n\u001B[32m   1234\u001B[39m         \u001B[38;5;28mself\u001B[39m.process_internal_commands()\n\u001B[32m-> \u001B[39m\u001B[32m1235\u001B[39m         \u001B[43mtime\u001B[49m\u001B[43m.\u001B[49m\u001B[43msleep\u001B[49m\u001B[43m(\u001B[49m\u001B[32;43m0.01\u001B[39;49m\u001B[43m)\u001B[49m\n\u001B[32m   1237\u001B[39m \u001B[38;5;28mself\u001B[39m.cancel_async_evaluation(get_current_thread_id(thread), \u001B[38;5;28mstr\u001B[39m(\u001B[38;5;28mid\u001B[39m(frame)))\n\u001B[32m   1239\u001B[39m \u001B[38;5;66;03m# process any stepping instructions\u001B[39;00m\n",
      "\u001B[31mKeyboardInterrupt\u001B[39m: "
     ]
    }
   ],
   "execution_count": 36
  }
 ],
 "metadata": {
  "kernelspec": {
   "display_name": "Python 3 (ipykernel)",
   "language": "python",
   "name": "python3"
  },
  "language_info": {
   "codemirror_mode": {
    "name": "ipython",
    "version": 3
   },
   "file_extension": ".py",
   "mimetype": "text/x-python",
   "name": "python",
   "nbconvert_exporter": "python",
   "pygments_lexer": "ipython3",
   "version": "3.13.0"
  },
  "colab": {
   "provenance": []
  }
 },
 "nbformat": 4,
 "nbformat_minor": 5
}
