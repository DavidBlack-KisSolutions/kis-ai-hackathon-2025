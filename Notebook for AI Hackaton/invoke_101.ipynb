{
 "cells": [
  {
   "cell_type": "markdown",
   "id": "5c39ca97d8dfd067",
   "metadata": {},
   "source": [
    "# Quintessential Chat\n",
    "\n",
    "The following code demonstrates how to use Langchain to instantiate a Google Vertex AI model and interact with it."
   ]
  },
  {
   "cell_type": "code",
   "execution_count": null,
   "id": "3cbf6032ed510b0",
   "metadata": {
    "ExecuteTime": {
     "end_time": "2025-03-14T15:47:43.833042Z",
     "start_time": "2025-03-14T15:47:43.214898Z"
    }
   },
   "outputs": [],
   "source": [
    "import os\n",
    "\n",
    "from langchain_google_vertexai import ChatVertexAI\n",
    "\n",
    "# authentication\n",
    "os.environ['GOOGLE_APPLICATION_CREDENTIALS'] = '/Users/kis/devel/kis/amway/amway-jupyter/conf/credentials.json'\n",
    "\n",
    "# instantiate the chat model\n",
    "model = ChatVertexAI(model='gemini-1.5-pro-002')  # gemini-1.5-flash\n",
    "\n",
    "response = model.invoke('hello world!')\n",
    "print(response.content)"
   ]
  }
 ],
 "metadata": {
  "kernelspec": {
   "display_name": "Python 3 (ipykernel)",
   "language": "python",
   "name": "python3"
  },
  "language_info": {
   "codemirror_mode": {
    "name": "ipython",
    "version": 3
   },
   "file_extension": ".py",
   "mimetype": "text/x-python",
   "name": "python",
   "nbconvert_exporter": "python",
   "pygments_lexer": "ipython3",
   "version": "3.13.0"
  }
 },
 "nbformat": 4,
 "nbformat_minor": 5
}
