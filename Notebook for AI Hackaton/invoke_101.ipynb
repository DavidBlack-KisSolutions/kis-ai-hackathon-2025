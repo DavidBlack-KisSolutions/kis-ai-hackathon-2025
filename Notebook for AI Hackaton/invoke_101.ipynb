{
 "cells": [
  {
   "cell_type": "markdown",
   "id": "5c39ca97d8dfd067",
   "metadata": {},
   "source": [
    "# Quintessential Chat\n",
    "\n",
    "The following code demonstrates how to use Langchain to instantiate a Google Vertex AI model and interact with it."
   ]
  },
  {
   "cell_type": "code",
   "id": "3cbf6032ed510b0",
   "metadata": {
    "ExecuteTime": {
     "end_time": "2025-03-18T18:32:29.134476Z",
     "start_time": "2025-03-18T18:32:26.524401Z"
    }
   },
   "source": [
    "import os\n",
    "\n",
    "from langchain_google_vertexai import ChatVertexAI\n",
    "from langgraph.prebuilt import create_react_agent\n",
    "\n",
    "# authentication\n",
    "os.environ['GOOGLE_APPLICATION_CREDENTIALS'] = './credentials.json'\n",
    "\n",
    "# instantiate the chat model\n",
    "model = ChatVertexAI(model='gemini-1.5-pro-002')  # gemini-1.5-flash\n",
    "\n",
    "response = model.invoke('Say goodbye world!')\n",
    "print(response.content)"
   ],
   "outputs": [
    {
     "name": "stdout",
     "output_type": "stream",
     "text": [
      "Goodbye, world!\n",
      "\n"
     ]
    }
   ],
   "execution_count": 6
  },
  {
   "metadata": {
    "ExecuteTime": {
     "end_time": "2025-03-18T18:25:32.641047Z",
     "start_time": "2025-03-18T18:25:32.639374Z"
    }
   },
   "cell_type": "code",
   "source": "",
   "id": "bdf0d573ae2c8a8e",
   "outputs": [],
   "execution_count": null
  },
  {
   "metadata": {},
   "cell_type": "code",
   "outputs": [],
   "execution_count": null,
   "source": "",
   "id": "1dd428e207037742"
  }
 ],
 "metadata": {
  "kernelspec": {
   "display_name": "Python 3 (ipykernel)",
   "language": "python",
   "name": "python3"
  },
  "language_info": {
   "codemirror_mode": {
    "name": "ipython",
    "version": 3
   },
   "file_extension": ".py",
   "mimetype": "text/x-python",
   "name": "python",
   "nbconvert_exporter": "python",
   "pygments_lexer": "ipython3",
   "version": "3.13.0"
  }
 },
 "nbformat": 4,
 "nbformat_minor": 5
}
